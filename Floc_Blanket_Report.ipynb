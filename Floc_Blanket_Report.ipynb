{
  "nbformat": 4,
  "nbformat_minor": 0,
  "metadata": {
    "colab": {
      "name": "Floc Blanket Report",
      "provenance": [],
      "collapsed_sections": [],
      "include_colab_link": true
    },
    "kernelspec": {
      "name": "python3",
      "display_name": "Python 3"
    }
  },
  "cells": [
    {
      "cell_type": "markdown",
      "metadata": {
        "id": "view-in-github",
        "colab_type": "text"
      },
      "source": [
        "<a href=\"https://colab.research.google.com/github/AguaClara/Floc_Blanket/blob/master/Floc_Blanket_Report.ipynb\" target=\"_parent\"><img src=\"https://colab.research.google.com/assets/colab-badge.svg\" alt=\"Open In Colab\"/></a>"
      ]
    },
    {
      "cell_type": "markdown",
      "metadata": {
        "id": "eAnUV3sCppBi",
        "colab_type": "text"
      },
      "source": [
        "**Abstract**\n",
        "\n",
        "The purpose of the Floc Blanket Depth team is to test how efficiently particles are being removed, or the efficiency of the floc blanket, at varying floc blanket heights. The experiments will run with floc blanket heights of 25 cm, 50 cm, 100 cm and 200 cm, at an upflow velocity of 2mm/s. The team will be using the bottom geometry designed by the Spring 2019 HRS Bottom Geometry team for all future experiments to further help stabilize the floc blanket.\n",
        "\n",
        "\n",
        "**Introduction**\n",
        "\n",
        "The Floc Blanket Depth team was created to measure the performance of the AguaClara floc blanket to improve sedimentation, a crucial part of the water treatment process as it acts as the major removal method for suspended and coagulated minerals, dirt, and particles. The process of sedimentation occurs when large flocs, which are clumps of particles created by the flocculator, are removed through settling -- the process by which particles settle to the bottom of a liquid. During sedimentation, a floc blanket, or a layer of suspended flocs, formed and captured other flocs that are too small to settle.\n",
        "\n",
        "Figure 1 below depicts a tube settler used in the current apparatus. Sedimentation occurred in the tube settler. The tube settler used a similar design to an AguaClara plant. The recirculator in the tube settler, a vertical portion of the tube, was where the floc blanket formed and accumulated. The tilted portion at the top of the tube settler acted similar to the plate settlers in the plant by stopping flocs from leaving the tank. The floc weir acted identically to the floc weir in the AguaClara plant by removing excess flocs in the floc blanket to keep it at a constant height.\n",
        " \n",
        "Figure 1 below depicts a tube settler used in the current apparatus. Sedimentation occurred in the tube settler. The tube settler used a similar design to an AguaClara plant. The recirculator in the tube settler, a vertical portion of the tube, was where the floc blanket formed and accumulated. The tilted portion at the top of the tube settler acted similar to the plate settlers in the plant by stopping flocs from leaving the tank. The floc weir acted identically to the floc weir in the AguaClara plant by removing excess flocs in the floc blanket to keep it at a constant height\n",
        "\n",
        "![Figure 1](https://raw.githubusercontent.com/AguaClara/high_rate_sedimentation/master/Images/Setup/Sedimentation%20Tank%20A.png)\n",
        "![Figure 1](https://raw.githubusercontent.com/AguaClara/HRS-Bot-Geo/master/Images/plant%20design.PNG)\n",
        "Figure 1: Comparison of lab and AguaClara plant sedimentation tanks.\n",
        "\n",
        "\n",
        "By changing the depth of the floc blanket the team hopes to gain insight into what the appropriate depth of a floc blanket should be in AguaClara facilities.  We expect to find, by varying the depth of the floc blanket, the optimal depth for producing a floc blanket that captures the most impurities in drinking water and reduces the frequency of which the floc sedimentation will need to be cleaned by workers. \n",
        "\n",
        "The Floc Depth team will be testing various floc blanket heights to test the relationship between the floc blanket efficiency in particle removal and floc blanket heights. To find the most optimal height, or depth, of the floc blanket, the team will be focusing and studying on the floc blanket’s stability. By finding the optimal depth, AguaClara will have a set height that they can implement in their water treatment plants to improve sedimentation tanks’ role in the water treatment process.\n",
        "\n",
        "\n",
        "\n",
        "**Literature Review and Previous Work**\n",
        "\n",
        "High Rate Sedimentation teams, from previous semesters, designed a bottom geometry that increased floc stability and reduced the clean-up time of the apparatus using an upflow rate of 2mm/s. The Spring 2019 High Rate Sedimentation team designed a bottom geometry for the tube settler to improve the stability of the floc blanket. The bottom geometry of the tube settler included an insert with sloped walls to allow the floc to fall into the upflow, preventing gelling. The most efficient angle for the walls was discovered to lie between 58 and 75 degrees. Future experiments will be conducted using a 58 degree angle on the walls of the inserts for the bottom geometry of the tube settler. \n",
        "\n",
        "Experiments from the Spring 2019 team ran for a duration of 24 hours. In this period of time, the stability of the floc blanket was analyzed using the effluent turbidity of the system. The floc blanket did not remain stable past, or sometimes within, the 24 hour period due to the gelling of the flocs at the bottom of the tube settler - which was represented by the exponential increase of the effluent turbidity. The hypothesis is that gelling is influenced by the upflow velocity and bottom angle of the test tube.\n",
        "\n",
        "In research conducted by Casey Garland (2015), it was discovered that the overall NTU (turbidity) decreased linearly with an increase in floc blanket height in the early stages, but it would eventually flatten out at a certain height. Thus, there was a need to have a set floc blanket height. However, what was left unclear was the distribution of particles sizes that were being removed from the system. It was hypothesized that the floc blanket is preferentially removing smaller particles and thus that increase in floc blanket height may still be removing small particles, which does not affect NTU readings. A beneficial aspect since it would mean larger floc blankets are still removing these particles, which are usually harder to remove in the filter.\n",
        "\n"
      ]
    }
  ]
}